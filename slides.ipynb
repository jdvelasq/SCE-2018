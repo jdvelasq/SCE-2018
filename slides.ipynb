{
 "cells": [
  {
   "cell_type": "markdown",
   "metadata": {
    "slideshow": {
     "slide_type": "slide"
    }
   },
   "source": [
    "# BIG DATA Y COMPUTACIÓN DE ALTO DESEMPEÑO: UNA INTRODUCCIÓN PARA EL ESTADÍSTICO\n",
    "\n",
    "\n",
    "\n",
    "Haga click [aquí](http://nbviewer.jupyter.org/format/slides/github/jdvelasq/big-data-y-comp-alto-desempeno/blob/master/Slides.ipynb?flush_cache=true#/) para ver esta presentación en nbviewer.\n",
    "\n",
    "<img src=\"img/firma-social-media.jpg\" alt=\"\" width=\"500\" >"
   ]
  },
  {
   "cell_type": "markdown",
   "metadata": {
    "slideshow": {
     "slide_type": "slide"
    }
   },
   "source": [
    "<img src=\"img/evo-big-data.jpg\" alt=\"\" width=\"800\" >"
   ]
  },
  {
   "cell_type": "markdown",
   "metadata": {
    "slideshow": {
     "slide_type": "slide"
    }
   },
   "source": [
    "<img src=\"img/servicios-web.jpg\" alt=\"\" width=\"800\" >"
   ]
  },
  {
   "cell_type": "markdown",
   "metadata": {
    "slideshow": {
     "slide_type": "slide"
    }
   },
   "source": [
    "# Apache Hadoop & Map/Reduce"
   ]
  },
  {
   "cell_type": "markdown",
   "metadata": {
    "slideshow": {
     "slide_type": "slide"
    }
   },
   "source": [
    "<img src=\"img/map-reduce.jpg\" alt=\"\" width=\"800\" >"
   ]
  },
  {
   "cell_type": "markdown",
   "metadata": {
    "slideshow": {
     "slide_type": "slide"
    }
   },
   "source": [
    "<img src=\"img/mr-word-count.jpg\" alt=\"\" width=\"800\" >"
   ]
  },
  {
   "cell_type": "markdown",
   "metadata": {
    "slideshow": {
     "slide_type": "slide"
    }
   },
   "source": [
    "# Generalidades\n",
    "\n",
    "## Modos de ejecución\n",
    "\n",
    "\n",
    "* Modo local (un solo hilo de ejecución en la máquina local, para aprendizaje y desarrollo). El sistema local de archivos funciona como el HDFS.\n",
    "\n",
    "\n",
    "* `=====>`  Modo seudo-distribuido (múltiples hilos en la máquina local, para desarrollo). El HDFS es alcanzable como un servicio.\n",
    "\n",
    "\n",
    "* Cluster (ambiente productivo)\n",
    "\n",
    "\n",
    "\n",
    "## Desarrollo de aplicaciones\n",
    "\n",
    "\n",
    "* Programación directa en Java (Hadoop)\n",
    "\n",
    "\n",
    "* `=====>` Programación usando un lenguaje interpretado (Hadoop-streaming)\n",
    "\n"
   ]
  },
  {
   "cell_type": "markdown",
   "metadata": {
    "slideshow": {
     "slide_type": "slide"
    }
   },
   "source": [
    "# Sistemas operativos\n",
    "\n",
    "* Microsoft Windows (dificil).\n",
    "\n",
    "\n",
    "* Mac OS: instalación directa. \n",
    "\n",
    "\n",
    "* Ubuntu Linux: instalación directa.\n",
    "\n"
   ]
  },
  {
   "cell_type": "markdown",
   "metadata": {
    "slideshow": {
     "slide_type": "slide"
    }
   },
   "source": [
    "# Ejemplo del conteo de palabras\n",
    "\n",
    "Se usará Hadoop-streaming."
   ]
  },
  {
   "cell_type": "markdown",
   "metadata": {},
   "source": [
    "## Datos"
   ]
  },
  {
   "cell_type": "code",
   "execution_count": 93,
   "metadata": {},
   "outputs": [
    {
     "name": "stdout",
     "output_type": "stream",
     "text": [
      "Overwriting input/text0.txt\n"
     ]
    }
   ],
   "source": [
    "%%writefile input/text0.txt\n",
    "A B C A\n",
    "A D D A\n",
    "A K M C\n",
    " "
   ]
  },
  {
   "cell_type": "code",
   "execution_count": 94,
   "metadata": {},
   "outputs": [
    {
     "name": "stdout",
     "output_type": "stream",
     "text": [
      "Overwriting input/text1.txt\n"
     ]
    }
   ],
   "source": [
    "%%writefile input/text1.txt\n",
    "B A C Y B\n",
    "U O Y Y A\n",
    "A B I T\n",
    " "
   ]
  },
  {
   "cell_type": "code",
   "execution_count": 95,
   "metadata": {},
   "outputs": [
    {
     "name": "stdout",
     "output_type": "stream",
     "text": [
      "Overwriting input/text2.txt\n"
     ]
    }
   ],
   "source": [
    "%%writefile input/text2.txt\n",
    "A C D A\n",
    "A K B \n",
    "A N H I D A\n",
    " "
   ]
  },
  {
   "cell_type": "markdown",
   "metadata": {
    "slideshow": {
     "slide_type": "slide"
    }
   },
   "source": [
    "## mapper.R"
   ]
  },
  {
   "cell_type": "code",
   "execution_count": 96,
   "metadata": {
    "slideshow": {
     "slide_type": "slide"
    }
   },
   "outputs": [
    {
     "name": "stdout",
     "output_type": "stream",
     "text": [
      "Overwriting mapper.R\n"
     ]
    }
   ],
   "source": [
    "%%writefile mapper.R\n",
    "#! /usr/bin/env Rscript\n",
    "\n",
    "input <- file('stdin', 'r')\n",
    "while(TRUE) {\n",
    "    row <- readLines(input, n=1)\n",
    "    if( length(row) == 0 ){\n",
    "        break\n",
    "    }\n",
    "    words <- strsplit(row, \" \")[[1]]\n",
    "    for(word in words){\n",
    "        if(word != '')\n",
    "            write(cat(word,'\\t1',sep=''), \"\")\n",
    "    }\n",
    "}"
   ]
  },
  {
   "cell_type": "code",
   "execution_count": 119,
   "metadata": {
    "slideshow": {
     "slide_type": "slide"
    }
   },
   "outputs": [
    {
     "name": "stdout",
     "output_type": "stream",
     "text": [
      "A\t1\r\n",
      "B\t1\r\n",
      "C\t1\r\n",
      "A\t1\r\n",
      "A\t1\r\n",
      "D\t1\r\n",
      "D\t1\r\n",
      "A\t1\r\n",
      "A\t1\r\n",
      "K\t1\r\n",
      "Error in cat(x, file = file, sep = c(rep.int(sep, ncolumns - 1), \"\\n\"),  : \r\n",
      "  ignoring SIGPIPE signal\r\n",
      "Calls: write -> cat\r\n",
      "Execution halted\r\n"
     ]
    }
   ],
   "source": [
    "## El programa anterior se hace ejecutable\n",
    "!chmod +x mapper.R\n",
    "\n",
    "## Verificación\n",
    "!cat ./input/text*.txt | ./mapper.R | head"
   ]
  },
  {
   "cell_type": "markdown",
   "metadata": {
    "slideshow": {
     "slide_type": "slide"
    }
   },
   "source": [
    "## reducer.R"
   ]
  },
  {
   "cell_type": "code",
   "execution_count": 98,
   "metadata": {},
   "outputs": [
    {
     "name": "stdout",
     "output_type": "stream",
     "text": [
      "Overwriting reducer.R\n"
     ]
    }
   ],
   "source": [
    "%%writefile reducer.R\n",
    "#!/usr/bin/env Rscript\n",
    "\n",
    "curkey <- NULL\n",
    "total <- 0\n",
    "input <- file('stdin', 'r')\n",
    "while(TRUE) {\n",
    "    row <- readLines(input, n=1)\n",
    "    if( length(row) == 0 ){\n",
    "        break\n",
    "    }\n",
    "    x <- strsplit(row, \"\\t\")[[1]]\n",
    "    key <- x[1]\n",
    "    value <- strtoi(x[2])\n",
    "    if(!is.null(curkey) && key == curkey){\n",
    "        total <- total + value\n",
    "    }\n",
    "    else{\n",
    "        if( !is.null(curkey) ) {\n",
    "            write(cat(curkey,'\\t', total), \"\")\n",
    "        }\n",
    "        curkey <- key\n",
    "        total <- value\n",
    "    }\n",
    "}\n",
    "write(cat(curkey,'\\t', total), \"\")"
   ]
  },
  {
   "cell_type": "code",
   "execution_count": 99,
   "metadata": {
    "slideshow": {
     "slide_type": "slide"
    }
   },
   "outputs": [
    {
     "name": "stdout",
     "output_type": "stream",
     "text": [
      "Warning message:\r\n",
      "In readLines(input, n = 1) : incomplete final line found on 'stdin'\r\n",
      "A \t 13\r\n",
      "B \t 5\r\n",
      "C \t 4\r\n",
      "D \t 4\r\n",
      "H \t 1\r\n",
      "I \t 2\r\n",
      "K \t 2\r\n",
      "M \t 1\r\n",
      "N \t 1\r\n",
      "O \t 1\r\n",
      "T \t 1\r\n",
      "U \t 1\r\n",
      "Y \t 3\r\n"
     ]
    }
   ],
   "source": [
    "!chmod +x reducer.R\n",
    "!cat ./input/text*.txt | ./mapper.R | sort | ./reducer.R "
   ]
  },
  {
   "cell_type": "markdown",
   "metadata": {
    "slideshow": {
     "slide_type": "slide"
    }
   },
   "source": [
    "## Ejecución en Hadoop"
   ]
  },
  {
   "cell_type": "code",
   "execution_count": 115,
   "metadata": {
    "slideshow": {
     "slide_type": "subslide"
    }
   },
   "outputs": [
    {
     "name": "stdout",
     "output_type": "stream",
     "text": [
      "-rw-r--r--   1 jdvelasq supergroup         25 2018-11-08 23:36 /user/jdvelasq/input/text0.txt\r\n",
      "-rw-r--r--   1 jdvelasq supergroup         29 2018-11-08 23:36 /user/jdvelasq/input/text1.txt\r\n",
      "-rw-r--r--   1 jdvelasq supergroup         28 2018-11-08 23:36 /user/jdvelasq/input/text2.txt\r\n"
     ]
    }
   ],
   "source": [
    "!hadoop fs -mkdir /user\n",
    "!hadoop fs -mkdir /user/jdvelasq\n",
    "!hadoop fs -mkdir /user/jdvelasq/input\n",
    "!hadoop fs -copyFromLocal  input/* /user/jdvelasq/input\n",
    "!hadoop fs -ls /user/jdvelasq/input/*"
   ]
  },
  {
   "cell_type": "code",
   "execution_count": 116,
   "metadata": {
    "slideshow": {
     "slide_type": "subslide"
    }
   },
   "outputs": [],
   "source": [
    "!hadoop jar $HADOOP_HOME/share/hadoop/tools/lib/hadoop-streaming-*.jar \\\n",
    "-input input -output output  -mapper mapper.R -reducer reducer.R"
   ]
  },
  {
   "cell_type": "code",
   "execution_count": 117,
   "metadata": {
    "slideshow": {
     "slide_type": "subslide"
    }
   },
   "outputs": [
    {
     "name": "stdout",
     "output_type": "stream",
     "text": [
      "Found 2 items\r\n",
      "-rw-r--r--   1 jdvelasq supergroup          0 2018-11-08 23:37 /user/jdvelasq/output/_SUCCESS\r\n",
      "-rw-r--r--   1 jdvelasq supergroup         79 2018-11-08 23:37 /user/jdvelasq/output/part-00000\r\n"
     ]
    }
   ],
   "source": [
    "!hadoop fs -ls /user/jdvelasq/output"
   ]
  },
  {
   "cell_type": "code",
   "execution_count": 118,
   "metadata": {
    "slideshow": {
     "slide_type": "subslide"
    }
   },
   "outputs": [
    {
     "name": "stdout",
     "output_type": "stream",
     "text": [
      "A \t 13\r\n",
      "B \t 5\r\n",
      "C \t 4\r\n",
      "D \t 4\r\n",
      "H \t 1\r\n",
      "I \t 2\r\n",
      "K \t 2\r\n",
      "M \t 1\r\n",
      "N \t 1\r\n",
      "O \t 1\r\n",
      "T \t 1\r\n",
      "U \t 1\r\n",
      "Y \t 3\r\n"
     ]
    }
   ],
   "source": [
    "!hadoop fs -cat /user/jdvelasq/output/part-00000"
   ]
  },
  {
   "cell_type": "markdown",
   "metadata": {
    "slideshow": {
     "slide_type": "slide"
    }
   },
   "source": [
    "## Problemas Típicos que se puden programar usando Map/Reduce\n",
    "\n",
    "* Valores máximo o mínimo para una clave.\n",
    "\n",
    "\n",
    "* Ordenamiento del archivo.\n",
    "\n",
    "\n",
    "* Sumas y promedios por claves.\n",
    "\n",
    "\n",
    "* Obtener los N registros más ...\n",
    "\n",
    "\n",
    "* Asociar por claves:\n",
    "\n",
    "\n",
    "    0   A, B                  A  0, 1\n",
    "    1   A, B       ======>    B  0, 1, 2  \n",
    "    2   B, C                  C  2\n",
    "    \n",
    "    \n",
    "**La mayor parte de problemas no pueden solucionarse usando un proceso simple Map/Reduce**"
   ]
  },
  {
   "cell_type": "markdown",
   "metadata": {
    "slideshow": {
     "slide_type": "slide"
    }
   },
   "source": [
    "<img src=\"img/mr-jobs.jpg\" alt=\"\" width=\"800\" >"
   ]
  },
  {
   "cell_type": "markdown",
   "metadata": {
    "slideshow": {
     "slide_type": "slide"
    }
   },
   "source": [
    "# Apache Pig"
   ]
  },
  {
   "cell_type": "markdown",
   "metadata": {},
   "source": []
  },
  {
   "cell_type": "code",
   "execution_count": null,
   "metadata": {},
   "outputs": [],
   "source": []
  },
  {
   "cell_type": "code",
   "execution_count": null,
   "metadata": {},
   "outputs": [],
   "source": []
  },
  {
   "cell_type": "code",
   "execution_count": null,
   "metadata": {},
   "outputs": [],
   "source": []
  },
  {
   "cell_type": "code",
   "execution_count": null,
   "metadata": {},
   "outputs": [],
   "source": []
  },
  {
   "cell_type": "markdown",
   "metadata": {
    "slideshow": {
     "slide_type": "slide"
    }
   },
   "source": [
    "<img src=\"img/big-data-analytics.jpg\" alt=\"\" width=\"800\" >"
   ]
  },
  {
   "cell_type": "code",
   "execution_count": null,
   "metadata": {},
   "outputs": [],
   "source": []
  },
  {
   "cell_type": "markdown",
   "metadata": {},
   "source": [
    "----"
   ]
  },
  {
   "cell_type": "code",
   "execution_count": null,
   "metadata": {
    "slideshow": {
     "slide_type": "skip"
    }
   },
   "outputs": [],
   "source": [
    "from IPython.core.display import HTML\n",
    "def css():\n",
    "    style = open(\"custom.css\", \"r\").read()\n",
    "    return HTML(style)\n",
    "css()"
   ]
  },
  {
   "cell_type": "markdown",
   "metadata": {},
   "source": [
    "---"
   ]
  }
 ],
 "metadata": {
  "celltoolbar": "Slideshow",
  "kernelspec": {
   "display_name": "Python 3",
   "language": "python",
   "name": "python3"
  },
  "language_info": {
   "codemirror_mode": {
    "name": "ipython",
    "version": 3
   },
   "file_extension": ".py",
   "mimetype": "text/x-python",
   "name": "python",
   "nbconvert_exporter": "python",
   "pygments_lexer": "ipython3",
   "version": "3.6.5"
  }
 },
 "nbformat": 4,
 "nbformat_minor": 2
}
